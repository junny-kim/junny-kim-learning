{
 "cells": [
  {
   "cell_type": "markdown",
   "metadata": {},
   "source": [
    "# MNIST handwritten digits classification with MLPs\n",
    "\n",
    "In this notebook, we'll train a multi-layer perceptron model to classify MNIST digits using **PyTorch**. \n",
    "\n",
    "First, the needed imports. "
   ]
  },
  {
   "cell_type": "code",
   "execution_count": 1,
   "metadata": {},
   "outputs": [
    {
     "name": "stdout",
     "output_type": "stream",
     "text": [
      "Using PyTorch version: 0.4.1 CUDA: True\n"
     ]
    }
   ],
   "source": [
    "%matplotlib inline\n",
    "\n",
    "import torch\n",
    "import torch.nn as nn\n",
    "import torch.nn.functional as F\n",
    "import torch.optim as optim\n",
    "from torchvision import datasets, transforms\n",
    "from torch.autograd import Variable\n",
    "\n",
    "import numpy as np\n",
    "import matplotlib.pyplot as plt\n",
    "\n",
    "cuda = torch.cuda.is_available()\n",
    "print('Using PyTorch version:', torch.__version__, 'CUDA:', cuda)\n",
    "\n",
    "#torch.manual_seed(42)\n",
    "#if cuda:\n",
    "#    torch.cuda.manual_seed(42)"
   ]
  },
  {
   "cell_type": "markdown",
   "metadata": {},
   "source": [
    "## Data\n",
    "\n",
    "Next we'll load the MNIST data.  First time we may have to download the data, which can take a while.\n",
    "\n",
    "Note that we are here using the MNIST test data for *validation*, instead of for testing the final model."
   ]
  },
  {
   "cell_type": "code",
   "execution_count": 2,
   "metadata": {},
   "outputs": [],
   "source": [
    "batch_size = 32\n",
    "\n",
    "kwargs = {'num_workers': 1, 'pin_memory': True} if cuda else {}\n",
    "\n",
    "train_loader = torch.utils.data.DataLoader(\n",
    "    datasets.MNIST('../data', train=True, download=True,\n",
    "                   transform=transforms.Compose([\n",
    "                       transforms.ToTensor(),\n",
    "                       transforms.Normalize((0.1307,), (0.3081,))\n",
    "                   ])),\n",
    "    batch_size=batch_size, shuffle=True, **kwargs)\n",
    "\n",
    "validation_loader = torch.utils.data.DataLoader(\n",
    "    datasets.MNIST('../data', train=False, transform=transforms.Compose([\n",
    "                       transforms.ToTensor(),\n",
    "                       transforms.Normalize((0.1307,), (0.3081,))\n",
    "                   ])),\n",
    "    batch_size=batch_size, shuffle=False, **kwargs)"
   ]
  },
  {
   "cell_type": "markdown",
   "metadata": {},
   "source": [
    "The train and test data are provided via data loaders that provide iterators over the datasets. The first element of training data (`X_train`) is a 4th-order tensor of size (`batch_size`, 1, 28, 28), i.e. it consists of a batch of images of size 1x28x28 pixels. `y_train` is a vector containing the correct classes (\"0\", \"1\", ..., \"9\") for each training digit."
   ]
  },
  {
   "cell_type": "code",
   "execution_count": 3,
   "metadata": {},
   "outputs": [
    {
     "name": "stdout",
     "output_type": "stream",
     "text": [
      "X_train: torch.Size([32, 1, 28, 28]) type: torch.FloatTensor\n",
      "y_train: torch.Size([32]) type: torch.LongTensor\n"
     ]
    }
   ],
   "source": [
    "for (X_train, y_train) in train_loader:\n",
    "    print('X_train:', X_train.size(), 'type:', X_train.type())\n",
    "    print('y_train:', y_train.size(), 'type:', y_train.type())\n",
    "    break"
   ]
  },
  {
   "cell_type": "markdown",
   "metadata": {},
   "source": [
    "Here are the first 10 training digits:"
   ]
  },
  {
   "cell_type": "code",
   "execution_count": 4,
   "metadata": {},
   "outputs": [
    {
     "data": {
      "image/png": "[encoded data removed]",
      "text/plain": [
       "<Figure size 720x72 with 10 Axes>"
      ]
     },
     "metadata": {},
     "output_type": "display_data"
    }
   ],
   "source": [
    "pltsize=1\n",
    "plt.figure(figsize=(10*pltsize, pltsize))\n",
    "\n",
    "for i in range(10):\n",
    "    plt.subplot(1,10,i+1)\n",
    "    plt.axis('off')\n",
    "    plt.imshow(X_train[i,:,:,:].numpy().reshape(28,28), cmap=\"gray\")\n",
    "    plt.title('Class: '+str(y_train[i]))"
   ]
  },
  {
   "cell_type": "markdown",
   "metadata": {},
   "source": [
    "## MLP network definition\n",
    "\n",
    "Let's define the network as a Python class.  We have to write the `__init__()` and `forward()` methods, and PyTorch will automatically generate a `backward()` method for computing the gradients for the backward pass.\n",
    "\n",
    "Finally, we define an optimizer to update the model parameters based on the computed gradients.  We select *stochastic gradient descent (with momentum)* as the optimization algorithm, and set *learning rate* to 0.01.  Note that there are [several different options](http://pytorch.org/docs/optim.html#algorithms) for the optimizer in PyTorch that we could use instead of *SGD*."
   ]
  },
  {
   "cell_type": "code",
   "execution_count": 5,
   "metadata": {},
   "outputs": [
    {
     "name": "stdout",
     "output_type": "stream",
     "text": [
      "Net(\n",
      "  (fc1): Linear(in_features=784, out_features=50, bias=True)\n",
      "  (fc1_drop): Dropout(p=0.2)\n",
      "  (fc2): Linear(in_features=50, out_features=50, bias=True)\n",
      "  (fc2_drop): Dropout(p=0.2)\n",
      "  (fc3): Linear(in_features=50, out_features=10, bias=True)\n",
      ")\n"
     ]
    }
   ],
   "source": [
    "class Net(nn.Module):\n",
    "    def __init__(self):\n",
    "        super(Net, self).__init__()\n",
    "        self.fc1 = nn.Linear(28*28, 50)\n",
    "        self.fc1_drop = nn.Dropout(0.2)\n",
    "        self.fc2 = nn.Linear(50, 50)\n",
    "        self.fc2_drop = nn.Dropout(0.2)\n",
    "        self.fc3 = nn.Linear(50, 10)\n",
    "\n",
    "    def forward(self, x):\n",
    "        x = x.view(-1, 28*28)\n",
    "        x = F.relu(self.fc1(x))\n",
    "        x = self.fc1_drop(x)\n",
    "        x = F.relu(self.fc2(x))\n",
    "        x = self.fc2_drop(x)\n",
    "        return F.log_softmax(self.fc3(x))\n",
    "\n",
    "model = Net()\n",
    "if cuda:\n",
    "    model.cuda()\n",
    "    \n",
    "optimizer = optim.SGD(model.parameters(), lr=0.01)\n",
    "\n",
    "print(model)"
   ]
  },
  {
   "cell_type": "markdown",
   "metadata": {},
   "source": [
    "## Learning\n",
    "\n",
    "Let's now define functions to `train()` and `test()` the model. "
   ]
  },
  {
   "cell_type": "code",
   "execution_count": 6,
   "metadata": {},
   "outputs": [],
   "source": [
    "def train(epoch, log_interval=100):\n",
    "    model.train()\n",
    "    for batch_idx, (data, target) in enumerate(train_loader):\n",
    "        if cuda:\n",
    "            data, target = data.cuda(), target.cuda()\n",
    "        data, target = Variable(data), Variable(target)\n",
    "        optimizer.zero_grad()\n",
    "        output = model(data)\n",
    "        loss = F.nll_loss(output, target)\n",
    "        loss.backward()\n",
    "        optimizer.step()\n",
    "        if batch_idx % log_interval == 0:\n",
    "            print('Train Epoch: {} [{}/{} ({:.0f}%)]\\tLoss: {:.6f}'.format(\n",
    "                epoch, batch_idx * len(data), len(train_loader.dataset),\n",
    "                100. * batch_idx / len(train_loader), loss.data[0]))"
   ]
  },
  {
   "cell_type": "code",
   "execution_count": 7,
   "metadata": {},
   "outputs": [],
   "source": [
    "def validate(loss_vector, accuracy_vector):\n",
    "    model.eval()\n",
    "    val_loss, correct = 0, 0\n",
    "    for data, target in validation_loader:\n",
    "        if cuda:\n",
    "            data, target = data.cuda(), target.cuda()\n",
    "        data, target = Variable(data, volatile=True), Variable(target)\n",
    "        output = model(data)\n",
    "        val_loss += F.nll_loss(output, target).data[0]\n",
    "        pred = output.data.max(1)[1] # get the index of the max log-probability\n",
    "        correct += pred.eq(target.data).cpu().sum()\n",
    "\n",
    "    val_loss /= len(validation_loader)\n",
    "    loss_vector.append(val_loss)\n",
    "\n",
    "    accuracy = 100. * correct / len(validation_loader.dataset)\n",
    "    accuracy_vector.append(accuracy)\n",
    "    \n",
    "    print('\\nValidation set: Average loss: {:.4f}, Accuracy: {}/{} ({:.0f}%)\\n'.format(\n",
    "        val_loss, correct, len(validation_loader.dataset), accuracy))"
   ]
  },
  {
   "cell_type": "markdown",
   "metadata": {},
   "source": [
    "Now we are ready to train our model using the `train()` function.  An *epoch* means one pass through the whole training data. After each epoch, we evaluate the model using `test()`. "
   ]
  },
  {
   "cell_type": "code",
   "execution_count": 8,
   "metadata": {},
   "outputs": [
    {
     "name": "stderr",
     "output_type": "stream",
     "text": [
      "/home/junny/anaconda3/lib/python3.6/site-packages/ipykernel_launcher.py:16: UserWarning: Implicit dimension choice for log_softmax has been deprecated. Change the call to include dim=X as an argument.\n",
      "  app.launch_new_instance()\n",
      "/home/junny/anaconda3/lib/python3.6/site-packages/ipykernel_launcher.py:15: UserWarning: invalid index of a 0-dim tensor. This will be an error in PyTorch 0.5. Use tensor.item() to convert a 0-dim tensor to a Python number\n",
      "  from ipykernel import kernelapp as app\n"
     ]
    },
    {
     "name": "stdout",
     "output_type": "stream",
     "text": [
      "Train Epoch: 1 [0/60000 (0%)]\tLoss: 2.316057\n",
      "Train Epoch: 1 [3200/60000 (5%)]\tLoss: 2.028682\n",
      "Train Epoch: 1 [6400/60000 (11%)]\tLoss: 1.593713\n",
      "Train Epoch: 1 [9600/60000 (16%)]\tLoss: 1.365909\n",
      "Train Epoch: 1 [12800/60000 (21%)]\tLoss: 1.020497\n",
      "Train Epoch: 1 [16000/60000 (27%)]\tLoss: 0.766684\n",
      "Train Epoch: 1 [19200/60000 (32%)]\tLoss: 0.602820\n",
      "Train Epoch: 1 [22400/60000 (37%)]\tLoss: 0.856388\n",
      "Train Epoch: 1 [25600/60000 (43%)]\tLoss: 0.637414\n",
      "Train Epoch: 1 [28800/60000 (48%)]\tLoss: 0.615269\n",
      "Train Epoch: 1 [32000/60000 (53%)]\tLoss: 0.441792\n",
      "Train Epoch: 1 [35200/60000 (59%)]\tLoss: 0.695586\n",
      "Train Epoch: 1 [38400/60000 (64%)]\tLoss: 0.634456\n",
      "Train Epoch: 1 [41600/60000 (69%)]\tLoss: 0.575447\n",
      "Train Epoch: 1 [44800/60000 (75%)]\tLoss: 0.665338\n",
      "Train Epoch: 1 [48000/60000 (80%)]\tLoss: 0.377528\n",
      "Train Epoch: 1 [51200/60000 (85%)]\tLoss: 0.395665\n",
      "Train Epoch: 1 [54400/60000 (91%)]\tLoss: 0.279331\n",
      "Train Epoch: 1 [57600/60000 (96%)]\tLoss: 0.252892\n"
     ]
    },
    {
     "name": "stderr",
     "output_type": "stream",
     "text": [
      "/home/junny/anaconda3/lib/python3.6/site-packages/ipykernel_launcher.py:7: UserWarning: volatile was removed and now has no effect. Use `with torch.no_grad():` instead.\n",
      "  import sys\n",
      "/home/junny/anaconda3/lib/python3.6/site-packages/ipykernel_launcher.py:9: UserWarning: invalid index of a 0-dim tensor. This will be an error in PyTorch 0.5. Use tensor.item() to convert a 0-dim tensor to a Python number\n",
      "  if __name__ == '__main__':\n"
     ]
    },
    {
     "name": "stdout",
     "output_type": "stream",
     "text": [
      "\n",
      "Validation set: Average loss: 0.3085, Accuracy: 9081/10000 (90%)\n",
      "\n",
      "Train Epoch: 2 [0/60000 (0%)]\tLoss: 0.234630\n",
      "Train Epoch: 2 [3200/60000 (5%)]\tLoss: 0.264257\n",
      "Train Epoch: 2 [6400/60000 (11%)]\tLoss: 0.322417\n",
      "Train Epoch: 2 [9600/60000 (16%)]\tLoss: 0.297156\n",
      "Train Epoch: 2 [12800/60000 (21%)]\tLoss: 0.407815\n",
      "Train Epoch: 2 [16000/60000 (27%)]\tLoss: 0.297326\n",
      "Train Epoch: 2 [19200/60000 (32%)]\tLoss: 0.301440\n",
      "Train Epoch: 2 [22400/60000 (37%)]\tLoss: 0.614039\n",
      "Train Epoch: 2 [25600/60000 (43%)]\tLoss: 0.515491\n",
      "Train Epoch: 2 [28800/60000 (48%)]\tLoss: 0.564211\n",
      "Train Epoch: 2 [32000/60000 (53%)]\tLoss: 0.224163\n",
      "Train Epoch: 2 [35200/60000 (59%)]\tLoss: 0.135160\n",
      "Train Epoch: 2 [38400/60000 (64%)]\tLoss: 0.406285\n",
      "Train Epoch: 2 [41600/60000 (69%)]\tLoss: 0.361232\n",
      "Train Epoch: 2 [44800/60000 (75%)]\tLoss: 0.275342\n",
      "Train Epoch: 2 [48000/60000 (80%)]\tLoss: 0.240360\n",
      "Train Epoch: 2 [51200/60000 (85%)]\tLoss: 0.383591\n",
      "Train Epoch: 2 [54400/60000 (91%)]\tLoss: 0.249255\n",
      "Train Epoch: 2 [57600/60000 (96%)]\tLoss: 0.808269\n",
      "\n",
      "Validation set: Average loss: 0.2349, Accuracy: 9311/10000 (93%)\n",
      "\n",
      "Train Epoch: 3 [0/60000 (0%)]\tLoss: 0.297868\n",
      "Train Epoch: 3 [3200/60000 (5%)]\tLoss: 0.260143\n",
      "Train Epoch: 3 [6400/60000 (11%)]\tLoss: 0.367004\n",
      "Train Epoch: 3 [9600/60000 (16%)]\tLoss: 0.300242\n",
      "Train Epoch: 3 [12800/60000 (21%)]\tLoss: 0.113491\n",
      "Train Epoch: 3 [16000/60000 (27%)]\tLoss: 0.207294\n",
      "Train Epoch: 3 [19200/60000 (32%)]\tLoss: 0.371558\n",
      "Train Epoch: 3 [22400/60000 (37%)]\tLoss: 0.327119\n",
      "Train Epoch: 3 [25600/60000 (43%)]\tLoss: 0.132097\n",
      "Train Epoch: 3 [28800/60000 (48%)]\tLoss: 0.136901\n",
      "Train Epoch: 3 [32000/60000 (53%)]\tLoss: 0.218928\n",
      "Train Epoch: 3 [35200/60000 (59%)]\tLoss: 0.151489\n",
      "Train Epoch: 3 [38400/60000 (64%)]\tLoss: 0.159278\n",
      "Train Epoch: 3 [41600/60000 (69%)]\tLoss: 0.164489\n",
      "Train Epoch: 3 [44800/60000 (75%)]\tLoss: 0.384904\n",
      "Train Epoch: 3 [48000/60000 (80%)]\tLoss: 0.299370\n",
      "Train Epoch: 3 [51200/60000 (85%)]\tLoss: 0.172336\n",
      "Train Epoch: 3 [54400/60000 (91%)]\tLoss: 0.535691\n",
      "Train Epoch: 3 [57600/60000 (96%)]\tLoss: 0.192669\n",
      "\n",
      "Validation set: Average loss: 0.1989, Accuracy: 9392/10000 (93%)\n",
      "\n",
      "Train Epoch: 4 [0/60000 (0%)]\tLoss: 0.932861\n",
      "Train Epoch: 4 [3200/60000 (5%)]\tLoss: 0.280041\n",
      "Train Epoch: 4 [6400/60000 (11%)]\tLoss: 0.272099\n",
      "Train Epoch: 4 [9600/60000 (16%)]\tLoss: 0.277426\n",
      "Train Epoch: 4 [12800/60000 (21%)]\tLoss: 0.292672\n",
      "Train Epoch: 4 [16000/60000 (27%)]\tLoss: 0.406608\n",
      "Train Epoch: 4 [19200/60000 (32%)]\tLoss: 0.210999\n",
      "Train Epoch: 4 [22400/60000 (37%)]\tLoss: 0.270401\n",
      "Train Epoch: 4 [25600/60000 (43%)]\tLoss: 0.261054\n",
      "Train Epoch: 4 [28800/60000 (48%)]\tLoss: 0.112261\n",
      "Train Epoch: 4 [32000/60000 (53%)]\tLoss: 0.307840\n",
      "Train Epoch: 4 [35200/60000 (59%)]\tLoss: 0.195181\n",
      "Train Epoch: 4 [38400/60000 (64%)]\tLoss: 0.446313\n",
      "Train Epoch: 4 [41600/60000 (69%)]\tLoss: 0.399267\n",
      "Train Epoch: 4 [44800/60000 (75%)]\tLoss: 0.262888\n",
      "Train Epoch: 4 [48000/60000 (80%)]\tLoss: 0.296116\n",
      "Train Epoch: 4 [51200/60000 (85%)]\tLoss: 0.558382\n",
      "Train Epoch: 4 [54400/60000 (91%)]\tLoss: 0.342645\n",
      "Train Epoch: 4 [57600/60000 (96%)]\tLoss: 0.334275\n",
      "\n",
      "Validation set: Average loss: 0.1723, Accuracy: 9470/10000 (94%)\n",
      "\n",
      "Train Epoch: 5 [0/60000 (0%)]\tLoss: 0.314964\n",
      "Train Epoch: 5 [3200/60000 (5%)]\tLoss: 0.109339\n",
      "Train Epoch: 5 [6400/60000 (11%)]\tLoss: 0.543138\n",
      "Train Epoch: 5 [9600/60000 (16%)]\tLoss: 0.152780\n",
      "Train Epoch: 5 [12800/60000 (21%)]\tLoss: 0.202679\n",
      "Train Epoch: 5 [16000/60000 (27%)]\tLoss: 0.525848\n",
      "Train Epoch: 5 [19200/60000 (32%)]\tLoss: 0.086016\n",
      "Train Epoch: 5 [22400/60000 (37%)]\tLoss: 0.110297\n",
      "Train Epoch: 5 [25600/60000 (43%)]\tLoss: 0.120237\n",
      "Train Epoch: 5 [28800/60000 (48%)]\tLoss: 0.242913\n",
      "Train Epoch: 5 [32000/60000 (53%)]\tLoss: 0.135837\n",
      "Train Epoch: 5 [35200/60000 (59%)]\tLoss: 0.363450\n",
      "Train Epoch: 5 [38400/60000 (64%)]\tLoss: 0.062188\n",
      "Train Epoch: 5 [41600/60000 (69%)]\tLoss: 0.314198\n",
      "Train Epoch: 5 [44800/60000 (75%)]\tLoss: 0.183448\n",
      "Train Epoch: 5 [48000/60000 (80%)]\tLoss: 0.065722\n",
      "Train Epoch: 5 [51200/60000 (85%)]\tLoss: 0.146729\n",
      "Train Epoch: 5 [54400/60000 (91%)]\tLoss: 0.173897\n",
      "Train Epoch: 5 [57600/60000 (96%)]\tLoss: 0.374757\n",
      "\n",
      "Validation set: Average loss: 0.1564, Accuracy: 9505/10000 (95%)\n",
      "\n",
      "Train Epoch: 6 [0/60000 (0%)]\tLoss: 0.159049\n",
      "Train Epoch: 6 [3200/60000 (5%)]\tLoss: 0.182371\n",
      "Train Epoch: 6 [6400/60000 (11%)]\tLoss: 0.150596\n",
      "Train Epoch: 6 [9600/60000 (16%)]\tLoss: 0.072607\n",
      "Train Epoch: 6 [12800/60000 (21%)]\tLoss: 0.101351\n",
      "Train Epoch: 6 [16000/60000 (27%)]\tLoss: 0.342657\n",
      "Train Epoch: 6 [19200/60000 (32%)]\tLoss: 0.124870\n",
      "Train Epoch: 6 [22400/60000 (37%)]\tLoss: 0.061600\n",
      "Train Epoch: 6 [25600/60000 (43%)]\tLoss: 0.183323\n",
      "Train Epoch: 6 [28800/60000 (48%)]\tLoss: 0.216260\n",
      "Train Epoch: 6 [32000/60000 (53%)]\tLoss: 0.323067\n",
      "Train Epoch: 6 [35200/60000 (59%)]\tLoss: 0.225144\n",
      "Train Epoch: 6 [38400/60000 (64%)]\tLoss: 0.089224\n",
      "Train Epoch: 6 [41600/60000 (69%)]\tLoss: 0.258331\n",
      "Train Epoch: 6 [44800/60000 (75%)]\tLoss: 0.302851\n",
      "Train Epoch: 6 [48000/60000 (80%)]\tLoss: 0.218249\n",
      "Train Epoch: 6 [51200/60000 (85%)]\tLoss: 0.144375\n",
      "Train Epoch: 6 [54400/60000 (91%)]\tLoss: 0.286839\n",
      "Train Epoch: 6 [57600/60000 (96%)]\tLoss: 0.143518\n",
      "\n",
      "Validation set: Average loss: 0.1451, Accuracy: 9549/10000 (95%)\n",
      "\n",
      "Train Epoch: 7 [0/60000 (0%)]\tLoss: 0.183290\n",
      "Train Epoch: 7 [3200/60000 (5%)]\tLoss: 0.134003\n",
      "Train Epoch: 7 [6400/60000 (11%)]\tLoss: 0.121941\n",
      "Train Epoch: 7 [9600/60000 (16%)]\tLoss: 0.112645\n",
      "Train Epoch: 7 [12800/60000 (21%)]\tLoss: 0.096399\n",
      "Train Epoch: 7 [16000/60000 (27%)]\tLoss: 0.328133\n",
      "Train Epoch: 7 [19200/60000 (32%)]\tLoss: 0.186503\n",
      "Train Epoch: 7 [22400/60000 (37%)]\tLoss: 0.079594\n",
      "Train Epoch: 7 [25600/60000 (43%)]\tLoss: 0.268424\n",
      "Train Epoch: 7 [28800/60000 (48%)]\tLoss: 0.142127\n",
      "Train Epoch: 7 [32000/60000 (53%)]\tLoss: 0.159720\n",
      "Train Epoch: 7 [35200/60000 (59%)]\tLoss: 0.131002\n",
      "Train Epoch: 7 [38400/60000 (64%)]\tLoss: 0.072775\n",
      "Train Epoch: 7 [41600/60000 (69%)]\tLoss: 0.175380\n",
      "Train Epoch: 7 [44800/60000 (75%)]\tLoss: 0.294215\n",
      "Train Epoch: 7 [48000/60000 (80%)]\tLoss: 0.462255\n",
      "Train Epoch: 7 [51200/60000 (85%)]\tLoss: 0.037756\n",
      "Train Epoch: 7 [54400/60000 (91%)]\tLoss: 0.249943\n",
      "Train Epoch: 7 [57600/60000 (96%)]\tLoss: 0.092147\n",
      "\n",
      "Validation set: Average loss: 0.1372, Accuracy: 9579/10000 (95%)\n",
      "\n",
      "Train Epoch: 8 [0/60000 (0%)]\tLoss: 0.234268\n",
      "Train Epoch: 8 [3200/60000 (5%)]\tLoss: 0.141350\n",
      "Train Epoch: 8 [6400/60000 (11%)]\tLoss: 0.084738\n",
      "Train Epoch: 8 [9600/60000 (16%)]\tLoss: 0.205184\n",
      "Train Epoch: 8 [12800/60000 (21%)]\tLoss: 0.103771\n",
      "Train Epoch: 8 [16000/60000 (27%)]\tLoss: 0.193677\n",
      "Train Epoch: 8 [19200/60000 (32%)]\tLoss: 0.257344\n",
      "Train Epoch: 8 [22400/60000 (37%)]\tLoss: 0.066424\n",
      "Train Epoch: 8 [25600/60000 (43%)]\tLoss: 0.060532\n",
      "Train Epoch: 8 [28800/60000 (48%)]\tLoss: 0.213244\n",
      "Train Epoch: 8 [32000/60000 (53%)]\tLoss: 0.060168\n",
      "Train Epoch: 8 [35200/60000 (59%)]\tLoss: 0.131339\n",
      "Train Epoch: 8 [38400/60000 (64%)]\tLoss: 0.227418\n",
      "Train Epoch: 8 [41600/60000 (69%)]\tLoss: 0.034639\n",
      "Train Epoch: 8 [44800/60000 (75%)]\tLoss: 0.082602\n",
      "Train Epoch: 8 [48000/60000 (80%)]\tLoss: 0.276949\n",
      "Train Epoch: 8 [51200/60000 (85%)]\tLoss: 0.055908\n",
      "Train Epoch: 8 [54400/60000 (91%)]\tLoss: 0.302857\n",
      "Train Epoch: 8 [57600/60000 (96%)]\tLoss: 0.235501\n",
      "\n",
      "Validation set: Average loss: 0.1278, Accuracy: 9628/10000 (96%)\n",
      "\n",
      "Train Epoch: 9 [0/60000 (0%)]\tLoss: 0.170948\n",
      "Train Epoch: 9 [3200/60000 (5%)]\tLoss: 0.371757\n",
      "Train Epoch: 9 [6400/60000 (11%)]\tLoss: 0.084923\n",
      "Train Epoch: 9 [9600/60000 (16%)]\tLoss: 0.066786\n",
      "Train Epoch: 9 [12800/60000 (21%)]\tLoss: 0.239352\n",
      "Train Epoch: 9 [16000/60000 (27%)]\tLoss: 0.344966\n",
      "Train Epoch: 9 [19200/60000 (32%)]\tLoss: 0.112930\n",
      "Train Epoch: 9 [22400/60000 (37%)]\tLoss: 0.133580\n",
      "Train Epoch: 9 [25600/60000 (43%)]\tLoss: 0.125271\n",
      "Train Epoch: 9 [28800/60000 (48%)]\tLoss: 0.090704\n",
      "Train Epoch: 9 [32000/60000 (53%)]\tLoss: 0.088255\n",
      "Train Epoch: 9 [35200/60000 (59%)]\tLoss: 0.302475\n",
      "Train Epoch: 9 [38400/60000 (64%)]\tLoss: 0.308667\n",
      "Train Epoch: 9 [41600/60000 (69%)]\tLoss: 0.221779\n",
      "Train Epoch: 9 [44800/60000 (75%)]\tLoss: 0.346349\n",
      "Train Epoch: 9 [48000/60000 (80%)]\tLoss: 0.297294\n",
      "Train Epoch: 9 [51200/60000 (85%)]\tLoss: 0.046517\n",
      "Train Epoch: 9 [54400/60000 (91%)]\tLoss: 0.099797\n",
      "Train Epoch: 9 [57600/60000 (96%)]\tLoss: 0.040077\n",
      "\n",
      "Validation set: Average loss: 0.1233, Accuracy: 9626/10000 (96%)\n",
      "\n",
      "Train Epoch: 10 [0/60000 (0%)]\tLoss: 0.184404\n",
      "Train Epoch: 10 [3200/60000 (5%)]\tLoss: 0.534257\n"
     ]
    },
    {
     "name": "stdout",
     "output_type": "stream",
     "text": [
      "Train Epoch: 10 [6400/60000 (11%)]\tLoss: 0.076070\n",
      "Train Epoch: 10 [9600/60000 (16%)]\tLoss: 0.355622\n",
      "Train Epoch: 10 [12800/60000 (21%)]\tLoss: 0.074711\n",
      "Train Epoch: 10 [16000/60000 (27%)]\tLoss: 0.159441\n",
      "Train Epoch: 10 [19200/60000 (32%)]\tLoss: 0.171620\n",
      "Train Epoch: 10 [22400/60000 (37%)]\tLoss: 0.079293\n",
      "Train Epoch: 10 [25600/60000 (43%)]\tLoss: 0.287361\n",
      "Train Epoch: 10 [28800/60000 (48%)]\tLoss: 0.091978\n",
      "Train Epoch: 10 [32000/60000 (53%)]\tLoss: 0.075519\n",
      "Train Epoch: 10 [35200/60000 (59%)]\tLoss: 0.333721\n",
      "Train Epoch: 10 [38400/60000 (64%)]\tLoss: 0.157869\n",
      "Train Epoch: 10 [41600/60000 (69%)]\tLoss: 0.155443\n",
      "Train Epoch: 10 [44800/60000 (75%)]\tLoss: 0.061201\n",
      "Train Epoch: 10 [48000/60000 (80%)]\tLoss: 0.142544\n",
      "Train Epoch: 10 [51200/60000 (85%)]\tLoss: 0.296680\n",
      "Train Epoch: 10 [54400/60000 (91%)]\tLoss: 0.080486\n",
      "Train Epoch: 10 [57600/60000 (96%)]\tLoss: 0.114662\n",
      "\n",
      "Validation set: Average loss: 0.1193, Accuracy: 9645/10000 (96%)\n",
      "\n",
      "CPU times: user 35.2 s, sys: 4.9 s, total: 40.1 s\n",
      "Wall time: 1min 11s\n"
     ]
    }
   ],
   "source": [
    "%%time\n",
    "epochs = 10\n",
    "\n",
    "lossv, accv = [], []\n",
    "for epoch in range(1, epochs + 1):\n",
    "    train(epoch)\n",
    "    validate(lossv, accv)"
   ]
  },
  {
   "cell_type": "markdown",
   "metadata": {},
   "source": [
    "Let's now visualize how the training progressed. \n",
    "\n",
    "* *Loss* is a function of the difference of the network output and the target values.  We are minimizing the loss function during training so it should decrease over time.\n",
    "* *Accuracy* is the classification accuracy for the test data."
   ]
  },
  {
   "cell_type": "code",
   "execution_count": 9,
   "metadata": {},
   "outputs": [
    {
     "data": {
      "image/png": "[encoded data removed]",
      "text/plain": [
       "<Figure size 360x216 with 1 Axes>"
      ]
     },
     "metadata": {},
     "output_type": "display_data"
    },
    {
     "data": {
      "image/png": "[encoded data removed]",
      "text/plain": [
       "<Figure size 360x216 with 1 Axes>"
      ]
     },
     "metadata": {},
     "output_type": "display_data"
    }
   ],
   "source": [
    "plt.figure(figsize=(5,3))\n",
    "plt.plot(np.arange(1,epochs+1), lossv)\n",
    "plt.title('validation loss')\n",
    "\n",
    "plt.figure(figsize=(5,3))\n",
    "plt.plot(np.arange(1,epochs+1), accv)\n",
    "plt.title('validation accuracy');"
   ]
  }
 ],
 "metadata": {
  "kernelspec": {
   "display_name": "Python 3",
   "language": "python",
   "name": "python3"
  },
  "language_info": {
   "codemirror_mode": {
    "name": "ipython",
    "version": 3
   },
   "file_extension": ".py",
   "mimetype": "text/x-python",
   "name": "python",
   "nbconvert_exporter": "python",
   "pygments_lexer": "ipython3",
   "version": "3.6.5"
  }
 },
 "nbformat": 4,
 "nbformat_minor": 2
}
